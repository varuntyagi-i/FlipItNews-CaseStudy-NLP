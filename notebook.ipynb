{
 "cells": [
  {
   "cell_type": "code",
   "execution_count": 47,
   "metadata": {},
   "outputs": [
    {
     "name": "stderr",
     "output_type": "stream",
     "text": [
      "[nltk_data] Downloading package punkt_tab to /home/varun/nltk_data...\n",
      "[nltk_data]   Package punkt_tab is already up-to-date!\n"
     ]
    }
   ],
   "source": [
    "import pandas as pd\n",
    "import seaborn as sns\n",
    "import matplotlib.pyplot as plt\n",
    "\n",
    "from sklearn.model_selection import train_test_split\n",
    "\n",
    "import nltk\n",
    "nltk.download('punkt_tab')\n",
    "from nltk.tokenize import word_tokenize\n",
    "from nltk.corpus import stopwords   \n",
    "import string"
   ]
  },
  {
   "cell_type": "markdown",
   "metadata": {},
   "source": [
    "## Define the Problem Statement and perform Exploratory Data Analysis"
   ]
  },
  {
   "cell_type": "markdown",
   "metadata": {},
   "source": [
    "### Definition\n",
    "The goal is to accurately categorize news articles into various categories like politics, technology, sports, business, and entertainment to enhance user engagement and content relevancy."
   ]
  },
  {
   "cell_type": "markdown",
   "metadata": {},
   "source": [
    "### Observations on Data"
   ]
  },
  {
   "cell_type": "code",
   "execution_count": 22,
   "metadata": {},
   "outputs": [
    {
     "data": {
      "text/html": [
       "<div>\n",
       "<style scoped>\n",
       "    .dataframe tbody tr th:only-of-type {\n",
       "        vertical-align: middle;\n",
       "    }\n",
       "\n",
       "    .dataframe tbody tr th {\n",
       "        vertical-align: top;\n",
       "    }\n",
       "\n",
       "    .dataframe thead th {\n",
       "        text-align: right;\n",
       "    }\n",
       "</style>\n",
       "<table border=\"1\" class=\"dataframe\">\n",
       "  <thead>\n",
       "    <tr style=\"text-align: right;\">\n",
       "      <th></th>\n",
       "      <th>Category</th>\n",
       "      <th>Article</th>\n",
       "    </tr>\n",
       "  </thead>\n",
       "  <tbody>\n",
       "    <tr>\n",
       "      <th>0</th>\n",
       "      <td>Technology</td>\n",
       "      <td>tv future in the hands of viewers with home th...</td>\n",
       "    </tr>\n",
       "    <tr>\n",
       "      <th>1</th>\n",
       "      <td>Business</td>\n",
       "      <td>worldcom boss  left books alone  former worldc...</td>\n",
       "    </tr>\n",
       "    <tr>\n",
       "      <th>2</th>\n",
       "      <td>Sports</td>\n",
       "      <td>tigers wary of farrell  gamble  leicester say ...</td>\n",
       "    </tr>\n",
       "    <tr>\n",
       "      <th>3</th>\n",
       "      <td>Sports</td>\n",
       "      <td>yeading face newcastle in fa cup premiership s...</td>\n",
       "    </tr>\n",
       "    <tr>\n",
       "      <th>4</th>\n",
       "      <td>Entertainment</td>\n",
       "      <td>ocean s twelve raids box office ocean s twelve...</td>\n",
       "    </tr>\n",
       "  </tbody>\n",
       "</table>\n",
       "</div>"
      ],
      "text/plain": [
       "        Category                                            Article\n",
       "0     Technology  tv future in the hands of viewers with home th...\n",
       "1       Business  worldcom boss  left books alone  former worldc...\n",
       "2         Sports  tigers wary of farrell  gamble  leicester say ...\n",
       "3         Sports  yeading face newcastle in fa cup premiership s...\n",
       "4  Entertainment  ocean s twelve raids box office ocean s twelve..."
      ]
     },
     "execution_count": 22,
     "metadata": {},
     "output_type": "execute_result"
    }
   ],
   "source": [
    "df = pd.read_csv(\"flipitnewsdata.csv\")\n",
    "df.head()"
   ]
  },
  {
   "cell_type": "code",
   "execution_count": 23,
   "metadata": {},
   "outputs": [
    {
     "data": {
      "text/plain": [
       "(2225, 2)"
      ]
     },
     "execution_count": 23,
     "metadata": {},
     "output_type": "execute_result"
    }
   ],
   "source": [
    "df.shape"
   ]
  },
  {
   "cell_type": "code",
   "execution_count": 24,
   "metadata": {},
   "outputs": [
    {
     "data": {
      "text/plain": [
       "Category    object\n",
       "Article     object\n",
       "dtype: object"
      ]
     },
     "execution_count": 24,
     "metadata": {},
     "output_type": "execute_result"
    }
   ],
   "source": [
    "df.dtypes"
   ]
  },
  {
   "cell_type": "code",
   "execution_count": 25,
   "metadata": {},
   "outputs": [
    {
     "data": {
      "text/plain": [
       "Category    0\n",
       "Article     0\n",
       "dtype: int64"
      ]
     },
     "execution_count": 25,
     "metadata": {},
     "output_type": "execute_result"
    }
   ],
   "source": [
    "df.isnull().sum()"
   ]
  },
  {
   "cell_type": "code",
   "execution_count": 26,
   "metadata": {},
   "outputs": [
    {
     "data": {
      "text/html": [
       "<div>\n",
       "<style scoped>\n",
       "    .dataframe tbody tr th:only-of-type {\n",
       "        vertical-align: middle;\n",
       "    }\n",
       "\n",
       "    .dataframe tbody tr th {\n",
       "        vertical-align: top;\n",
       "    }\n",
       "\n",
       "    .dataframe thead th {\n",
       "        text-align: right;\n",
       "    }\n",
       "</style>\n",
       "<table border=\"1\" class=\"dataframe\">\n",
       "  <thead>\n",
       "    <tr style=\"text-align: right;\">\n",
       "      <th></th>\n",
       "      <th>Category</th>\n",
       "      <th>Article</th>\n",
       "    </tr>\n",
       "  </thead>\n",
       "  <tbody>\n",
       "    <tr>\n",
       "      <th>count</th>\n",
       "      <td>2225</td>\n",
       "      <td>2225</td>\n",
       "    </tr>\n",
       "    <tr>\n",
       "      <th>unique</th>\n",
       "      <td>5</td>\n",
       "      <td>2126</td>\n",
       "    </tr>\n",
       "    <tr>\n",
       "      <th>top</th>\n",
       "      <td>Sports</td>\n",
       "      <td>blind student  hears in colour  a blind studen...</td>\n",
       "    </tr>\n",
       "    <tr>\n",
       "      <th>freq</th>\n",
       "      <td>511</td>\n",
       "      <td>2</td>\n",
       "    </tr>\n",
       "  </tbody>\n",
       "</table>\n",
       "</div>"
      ],
      "text/plain": [
       "       Category                                            Article\n",
       "count      2225                                               2225\n",
       "unique        5                                               2126\n",
       "top      Sports  blind student  hears in colour  a blind studen...\n",
       "freq        511                                                  2"
      ]
     },
     "execution_count": 26,
     "metadata": {},
     "output_type": "execute_result"
    }
   ],
   "source": [
    "df.describe()"
   ]
  },
  {
   "cell_type": "code",
   "execution_count": 27,
   "metadata": {},
   "outputs": [
    {
     "name": "stdout",
     "output_type": "stream",
     "text": [
      "<class 'pandas.core.frame.DataFrame'>\n",
      "RangeIndex: 2225 entries, 0 to 2224\n",
      "Data columns (total 2 columns):\n",
      " #   Column    Non-Null Count  Dtype \n",
      "---  ------    --------------  ----- \n",
      " 0   Category  2225 non-null   object\n",
      " 1   Article   2225 non-null   object\n",
      "dtypes: object(2)\n",
      "memory usage: 34.9+ KB\n"
     ]
    }
   ],
   "source": [
    "df.info()"
   ]
  },
  {
   "cell_type": "markdown",
   "metadata": {},
   "source": [
    "### Univariate Analysis"
   ]
  },
  {
   "cell_type": "code",
   "execution_count": 28,
   "metadata": {},
   "outputs": [
    {
     "data": {
      "text/plain": [
       "<Axes: xlabel='Category', ylabel='count'>"
      ]
     },
     "execution_count": 28,
     "metadata": {},
     "output_type": "execute_result"
    },
    {
     "data": {
      "image/png": "[encoded data removed]",
      "text/plain": [
       "<Figure size 640x480 with 1 Axes>"
      ]
     },
     "metadata": {},
     "output_type": "display_data"
    }
   ],
   "source": [
    "sns.countplot(df, x=\"Category\", \n",
    "              hue=\"Category\", \n",
    "              legend=False, \n",
    "              palette=\"pastel\")"
   ]
  },
  {
   "cell_type": "markdown",
   "metadata": {},
   "source": [
    "### Text Data Analysis"
   ]
  },
  {
   "cell_type": "code",
   "execution_count": 29,
   "metadata": {},
   "outputs": [
    {
     "data": {
      "text/plain": [
       "<Axes: xlabel='article_length', ylabel='Density'>"
      ]
     },
     "execution_count": 29,
     "metadata": {},
     "output_type": "execute_result"
    },
    {
     "data": {
      "image/png": "[encoded data removed]",
      "text/plain": [
       "<Figure size 640x480 with 1 Axes>"
      ]
     },
     "metadata": {},
     "output_type": "display_data"
    }
   ],
   "source": [
    "df[\"article_length\"] = [len(art) for art in df[\"Article\"]]\n",
    "\n",
    "sns.kdeplot(df,\n",
    "            x=\"article_length\",\n",
    "            hue=\"Category\",\n",
    "            fill=True, \n",
    "            common_norm=False, \n",
    "            palette=\"pastel\",\n",
    "            alpha=.5, \n",
    "            linewidth=0)"
   ]
  },
  {
   "cell_type": "code",
   "execution_count": 30,
   "metadata": {},
   "outputs": [
    {
     "data": {
      "image/png": "[encoded data removed]",
      "text/plain": [
       "<Figure size 640x480 with 1 Axes>"
      ]
     },
     "metadata": {},
     "output_type": "display_data"
    }
   ],
   "source": [
    "# Filter out values greater than 8000\n",
    "df_filtered = df[df[\"article_length\"] <= 8000]\n",
    "\n",
    "# Plot the shifted KDE plot\n",
    "sns.kdeplot(df_filtered,\n",
    "            x=\"article_length\",\n",
    "            hue=\"Category\",\n",
    "            fill=True, \n",
    "            common_norm=False, \n",
    "            palette=\"pastel\",\n",
    "            alpha=.5, \n",
    "            linewidth=0)\n",
    "\n",
    "plt.title(\"Shifted KDE Plot (Excluding Values > 8000)\")\n",
    "plt.xlabel(\"Shifted Article Length\")\n",
    "plt.show()"
   ]
  },
  {
   "cell_type": "markdown",
   "metadata": {},
   "source": [
    "### Illustrate the insights based on EDA\n",
    "Bar plot shows a higher frequency of business-related articles, suggesting a focus on finance and investment news.\""
   ]
  },
  {
   "cell_type": "markdown",
   "metadata": {},
   "source": [
    "## Data Preprocessing"
   ]
  },
  {
   "cell_type": "markdown",
   "metadata": {},
   "source": [
    "### Dubplicate check"
   ]
  },
  {
   "cell_type": "code",
   "execution_count": 31,
   "metadata": {},
   "outputs": [
    {
     "data": {
      "text/html": [
       "<div>\n",
       "<style scoped>\n",
       "    .dataframe tbody tr th:only-of-type {\n",
       "        vertical-align: middle;\n",
       "    }\n",
       "\n",
       "    .dataframe tbody tr th {\n",
       "        vertical-align: top;\n",
       "    }\n",
       "\n",
       "    .dataframe thead th {\n",
       "        text-align: right;\n",
       "    }\n",
       "</style>\n",
       "<table border=\"1\" class=\"dataframe\">\n",
       "  <thead>\n",
       "    <tr style=\"text-align: right;\">\n",
       "      <th></th>\n",
       "      <th>Category</th>\n",
       "      <th>Article</th>\n",
       "      <th>article_length</th>\n",
       "    </tr>\n",
       "  </thead>\n",
       "  <tbody>\n",
       "    <tr>\n",
       "      <th>0</th>\n",
       "      <td>Technology</td>\n",
       "      <td>tv future in the hands of viewers with home th...</td>\n",
       "      <td>4333</td>\n",
       "    </tr>\n",
       "    <tr>\n",
       "      <th>1</th>\n",
       "      <td>Business</td>\n",
       "      <td>worldcom boss  left books alone  former worldc...</td>\n",
       "      <td>1842</td>\n",
       "    </tr>\n",
       "    <tr>\n",
       "      <th>2</th>\n",
       "      <td>Sports</td>\n",
       "      <td>tigers wary of farrell  gamble  leicester say ...</td>\n",
       "      <td>1342</td>\n",
       "    </tr>\n",
       "    <tr>\n",
       "      <th>3</th>\n",
       "      <td>Sports</td>\n",
       "      <td>yeading face newcastle in fa cup premiership s...</td>\n",
       "      <td>2176</td>\n",
       "    </tr>\n",
       "    <tr>\n",
       "      <th>4</th>\n",
       "      <td>Entertainment</td>\n",
       "      <td>ocean s twelve raids box office ocean s twelve...</td>\n",
       "      <td>1579</td>\n",
       "    </tr>\n",
       "  </tbody>\n",
       "</table>\n",
       "</div>"
      ],
      "text/plain": [
       "        Category                                            Article  \\\n",
       "0     Technology  tv future in the hands of viewers with home th...   \n",
       "1       Business  worldcom boss  left books alone  former worldc...   \n",
       "2         Sports  tigers wary of farrell  gamble  leicester say ...   \n",
       "3         Sports  yeading face newcastle in fa cup premiership s...   \n",
       "4  Entertainment  ocean s twelve raids box office ocean s twelve...   \n",
       "\n",
       "   article_length  \n",
       "0            4333  \n",
       "1            1842  \n",
       "2            1342  \n",
       "3            2176  \n",
       "4            1579  "
      ]
     },
     "execution_count": 31,
     "metadata": {},
     "output_type": "execute_result"
    }
   ],
   "source": [
    "df.head()"
   ]
  },
  {
   "cell_type": "code",
   "execution_count": 32,
   "metadata": {},
   "outputs": [
    {
     "data": {
      "text/html": [
       "<div>\n",
       "<style scoped>\n",
       "    .dataframe tbody tr th:only-of-type {\n",
       "        vertical-align: middle;\n",
       "    }\n",
       "\n",
       "    .dataframe tbody tr th {\n",
       "        vertical-align: top;\n",
       "    }\n",
       "\n",
       "    .dataframe thead th {\n",
       "        text-align: right;\n",
       "    }\n",
       "</style>\n",
       "<table border=\"1\" class=\"dataframe\">\n",
       "  <thead>\n",
       "    <tr style=\"text-align: right;\">\n",
       "      <th></th>\n",
       "      <th>Category</th>\n",
       "      <th>Article</th>\n",
       "    </tr>\n",
       "  </thead>\n",
       "  <tbody>\n",
       "    <tr>\n",
       "      <th>0</th>\n",
       "      <td>Technology</td>\n",
       "      <td>tv future in the hands of viewers with home th...</td>\n",
       "    </tr>\n",
       "    <tr>\n",
       "      <th>1</th>\n",
       "      <td>Business</td>\n",
       "      <td>worldcom boss  left books alone  former worldc...</td>\n",
       "    </tr>\n",
       "    <tr>\n",
       "      <th>2</th>\n",
       "      <td>Sports</td>\n",
       "      <td>tigers wary of farrell  gamble  leicester say ...</td>\n",
       "    </tr>\n",
       "    <tr>\n",
       "      <th>3</th>\n",
       "      <td>Sports</td>\n",
       "      <td>yeading face newcastle in fa cup premiership s...</td>\n",
       "    </tr>\n",
       "    <tr>\n",
       "      <th>4</th>\n",
       "      <td>Entertainment</td>\n",
       "      <td>ocean s twelve raids box office ocean s twelve...</td>\n",
       "    </tr>\n",
       "  </tbody>\n",
       "</table>\n",
       "</div>"
      ],
      "text/plain": [
       "        Category                                            Article\n",
       "0     Technology  tv future in the hands of viewers with home th...\n",
       "1       Business  worldcom boss  left books alone  former worldc...\n",
       "2         Sports  tigers wary of farrell  gamble  leicester say ...\n",
       "3         Sports  yeading face newcastle in fa cup premiership s...\n",
       "4  Entertainment  ocean s twelve raids box office ocean s twelve..."
      ]
     },
     "execution_count": 32,
     "metadata": {},
     "output_type": "execute_result"
    }
   ],
   "source": [
    "df.drop(columns=[\"article_length\"], inplace= True)\n",
    "df.head()"
   ]
  },
  {
   "cell_type": "code",
   "execution_count": 33,
   "metadata": {},
   "outputs": [
    {
     "data": {
      "text/html": [
       "<div>\n",
       "<style scoped>\n",
       "    .dataframe tbody tr th:only-of-type {\n",
       "        vertical-align: middle;\n",
       "    }\n",
       "\n",
       "    .dataframe tbody tr th {\n",
       "        vertical-align: top;\n",
       "    }\n",
       "\n",
       "    .dataframe thead th {\n",
       "        text-align: right;\n",
       "    }\n",
       "</style>\n",
       "<table border=\"1\" class=\"dataframe\">\n",
       "  <thead>\n",
       "    <tr style=\"text-align: right;\">\n",
       "      <th></th>\n",
       "      <th>Category</th>\n",
       "      <th>Article</th>\n",
       "    </tr>\n",
       "  </thead>\n",
       "  <tbody>\n",
       "    <tr>\n",
       "      <th>85</th>\n",
       "      <td>Politics</td>\n",
       "      <td>hague  given up  his pm ambition former conser...</td>\n",
       "    </tr>\n",
       "    <tr>\n",
       "      <th>301</th>\n",
       "      <td>Politics</td>\n",
       "      <td>fox attacks blair s tory  lies  tony blair lie...</td>\n",
       "    </tr>\n",
       "    <tr>\n",
       "      <th>496</th>\n",
       "      <td>Technology</td>\n",
       "      <td>microsoft gets the blogging bug software giant...</td>\n",
       "    </tr>\n",
       "    <tr>\n",
       "      <th>543</th>\n",
       "      <td>Business</td>\n",
       "      <td>economy  strong  in election year uk businesse...</td>\n",
       "    </tr>\n",
       "    <tr>\n",
       "      <th>582</th>\n",
       "      <td>Entertainment</td>\n",
       "      <td>ray dvd beats box office takings oscar-nominat...</td>\n",
       "    </tr>\n",
       "    <tr>\n",
       "      <th>...</th>\n",
       "      <td>...</td>\n",
       "      <td>...</td>\n",
       "    </tr>\n",
       "    <tr>\n",
       "      <th>2206</th>\n",
       "      <td>Politics</td>\n",
       "      <td>kennedy questions trust of blair lib dem leade...</td>\n",
       "    </tr>\n",
       "    <tr>\n",
       "      <th>2207</th>\n",
       "      <td>Technology</td>\n",
       "      <td>california sets fines for spyware the makers o...</td>\n",
       "    </tr>\n",
       "    <tr>\n",
       "      <th>2213</th>\n",
       "      <td>Technology</td>\n",
       "      <td>progress on new internet domains by early 2005...</td>\n",
       "    </tr>\n",
       "    <tr>\n",
       "      <th>2215</th>\n",
       "      <td>Technology</td>\n",
       "      <td>junk e-mails on relentless rise spam traffic i...</td>\n",
       "    </tr>\n",
       "    <tr>\n",
       "      <th>2217</th>\n",
       "      <td>Technology</td>\n",
       "      <td>rings of steel combat net attacks gambling is ...</td>\n",
       "    </tr>\n",
       "  </tbody>\n",
       "</table>\n",
       "<p>99 rows × 2 columns</p>\n",
       "</div>"
      ],
      "text/plain": [
       "           Category                                            Article\n",
       "85         Politics  hague  given up  his pm ambition former conser...\n",
       "301        Politics  fox attacks blair s tory  lies  tony blair lie...\n",
       "496      Technology  microsoft gets the blogging bug software giant...\n",
       "543        Business  economy  strong  in election year uk businesse...\n",
       "582   Entertainment  ray dvd beats box office takings oscar-nominat...\n",
       "...             ...                                                ...\n",
       "2206       Politics  kennedy questions trust of blair lib dem leade...\n",
       "2207     Technology  california sets fines for spyware the makers o...\n",
       "2213     Technology  progress on new internet domains by early 2005...\n",
       "2215     Technology  junk e-mails on relentless rise spam traffic i...\n",
       "2217     Technology  rings of steel combat net attacks gambling is ...\n",
       "\n",
       "[99 rows x 2 columns]"
      ]
     },
     "execution_count": 33,
     "metadata": {},
     "output_type": "execute_result"
    }
   ],
   "source": [
    "df[df.duplicated()]"
   ]
  },
  {
   "cell_type": "code",
   "execution_count": 34,
   "metadata": {},
   "outputs": [],
   "source": [
    "df = df.drop_duplicates(keep='last')"
   ]
  },
  {
   "cell_type": "markdown",
   "metadata": {},
   "source": [
    "### Data Spliting"
   ]
  },
  {
   "cell_type": "code",
   "execution_count": 35,
   "metadata": {},
   "outputs": [
    {
     "data": {
      "text/plain": [
       "Category\n",
       "Sports           504\n",
       "Business         503\n",
       "Politics         403\n",
       "Entertainment    369\n",
       "Technology       347\n",
       "Name: count, dtype: int64"
      ]
     },
     "execution_count": 35,
     "metadata": {},
     "output_type": "execute_result"
    }
   ],
   "source": [
    "df[\"Category\"].value_counts()"
   ]
  },
  {
   "cell_type": "code",
   "execution_count": 36,
   "metadata": {},
   "outputs": [],
   "source": [
    "'''\n",
    "To split your data into train and test sets while ensuring that the categories are balanced, WE use stratified sampling. \n",
    "'''\n",
    "\n",
    "X = df.drop(columns=[\"Category\"])\n",
    "y = df[\"Category\"]\n",
    "\n",
    "X_train, X_test, y_train, y_test = train_test_split(\n",
    "    X, y,\n",
    "    test_size=.2,\n",
    "    stratify=y,\n",
    "    random_state=42\n",
    ")"
   ]
  },
  {
   "cell_type": "code",
   "execution_count": 37,
   "metadata": {},
   "outputs": [
    {
     "data": {
      "text/plain": [
       "Category\n",
       "Sports           403\n",
       "Business         402\n",
       "Politics         322\n",
       "Entertainment    295\n",
       "Technology       278\n",
       "Name: count, dtype: int64"
      ]
     },
     "execution_count": 37,
     "metadata": {},
     "output_type": "execute_result"
    }
   ],
   "source": [
    "y_train.value_counts()"
   ]
  },
  {
   "cell_type": "code",
   "execution_count": 38,
   "metadata": {},
   "outputs": [
    {
     "data": {
      "text/plain": [
       "Category\n",
       "Sports           101\n",
       "Business         101\n",
       "Politics          81\n",
       "Entertainment     74\n",
       "Technology        69\n",
       "Name: count, dtype: int64"
      ]
     },
     "execution_count": 38,
     "metadata": {},
     "output_type": "execute_result"
    }
   ],
   "source": [
    "y_test.value_counts()"
   ]
  },
  {
   "cell_type": "markdown",
   "metadata": {},
   "source": [
    "### Text Data Preprocessing"
   ]
  },
  {
   "cell_type": "code",
   "execution_count": 39,
   "metadata": {},
   "outputs": [
    {
     "data": {
      "text/plain": [
       "'tigers wary of farrell  gamble  leicester say they will not be rushed into making a bid for andy farrell should the great britain rugby league captain decide to switch codes.   we and anybody else involved in the process are still some way away from going to the next stage   tigers boss john wells told bbc radio leicester.  at the moment  there are still a lot of unknowns about andy farrell  not least his medical situation.  whoever does take him on is going to take a big  big gamble.  farrell  who has had persistent knee problems  had an operation on his knee five weeks ago and is expected to be out for another three months. leicester and saracens are believed to head the list of rugby union clubs interested in signing farrell if he decides to move to the 15-man game.  if he does move across to union  wells believes he would better off playing in the backs  at least initially.  i m sure he could make the step between league and union by being involved in the centre   said wells.  i think england would prefer him to progress to a position in the back row where they can make use of some of his rugby league skills within the forwards.  the jury is out on whether he can cross that divide.  at this club  the balance will have to be struck between the cost of that gamble and the option of bringing in a ready-made replacement.'"
      ]
     },
     "execution_count": 39,
     "metadata": {},
     "output_type": "execute_result"
    }
   ],
   "source": [
    "X_train[\"Article\"][2]"
   ]
  },
  {
   "cell_type": "code",
   "execution_count": 40,
   "metadata": {},
   "outputs": [
    {
     "data": {
      "text/plain": [
       "['tigers',\n",
       " 'wary',\n",
       " 'of',\n",
       " 'farrell',\n",
       " 'gamble',\n",
       " 'leicester',\n",
       " 'say',\n",
       " 'they',\n",
       " 'will',\n",
       " 'not',\n",
       " 'be',\n",
       " 'rushed',\n",
       " 'into',\n",
       " 'making',\n",
       " 'a',\n",
       " 'bid',\n",
       " 'for',\n",
       " 'andy',\n",
       " 'farrell',\n",
       " 'should',\n",
       " 'the',\n",
       " 'great',\n",
       " 'britain',\n",
       " 'rugby',\n",
       " 'league',\n",
       " 'captain',\n",
       " 'decide',\n",
       " 'to',\n",
       " 'switch',\n",
       " 'codes',\n",
       " '.',\n",
       " 'we',\n",
       " 'and',\n",
       " 'anybody',\n",
       " 'else',\n",
       " 'involved',\n",
       " 'in',\n",
       " 'the',\n",
       " 'process',\n",
       " 'are',\n",
       " 'still',\n",
       " 'some',\n",
       " 'way',\n",
       " 'away',\n",
       " 'from',\n",
       " 'going',\n",
       " 'to',\n",
       " 'the',\n",
       " 'next',\n",
       " 'stage',\n",
       " 'tigers',\n",
       " 'boss',\n",
       " 'john',\n",
       " 'wells',\n",
       " 'told',\n",
       " 'bbc',\n",
       " 'radio',\n",
       " 'leicester',\n",
       " '.',\n",
       " 'at',\n",
       " 'the',\n",
       " 'moment',\n",
       " 'there',\n",
       " 'are',\n",
       " 'still',\n",
       " 'a',\n",
       " 'lot',\n",
       " 'of',\n",
       " 'unknowns',\n",
       " 'about',\n",
       " 'andy',\n",
       " 'farrell',\n",
       " 'not',\n",
       " 'least',\n",
       " 'his',\n",
       " 'medical',\n",
       " 'situation',\n",
       " '.',\n",
       " 'whoever',\n",
       " 'does',\n",
       " 'take',\n",
       " 'him',\n",
       " 'on',\n",
       " 'is',\n",
       " 'going',\n",
       " 'to',\n",
       " 'take',\n",
       " 'a',\n",
       " 'big',\n",
       " 'big',\n",
       " 'gamble',\n",
       " '.',\n",
       " 'farrell',\n",
       " 'who',\n",
       " 'has',\n",
       " 'had',\n",
       " 'persistent',\n",
       " 'knee',\n",
       " 'problems',\n",
       " 'had',\n",
       " 'an',\n",
       " 'operation',\n",
       " 'on',\n",
       " 'his',\n",
       " 'knee',\n",
       " 'five',\n",
       " 'weeks',\n",
       " 'ago',\n",
       " 'and',\n",
       " 'is',\n",
       " 'expected',\n",
       " 'to',\n",
       " 'be',\n",
       " 'out',\n",
       " 'for',\n",
       " 'another',\n",
       " 'three',\n",
       " 'months',\n",
       " '.',\n",
       " 'leicester',\n",
       " 'and',\n",
       " 'saracens',\n",
       " 'are',\n",
       " 'believed',\n",
       " 'to',\n",
       " 'head',\n",
       " 'the',\n",
       " 'list',\n",
       " 'of',\n",
       " 'rugby',\n",
       " 'union',\n",
       " 'clubs',\n",
       " 'interested',\n",
       " 'in',\n",
       " 'signing',\n",
       " 'farrell',\n",
       " 'if',\n",
       " 'he',\n",
       " 'decides',\n",
       " 'to',\n",
       " 'move',\n",
       " 'to',\n",
       " 'the',\n",
       " '15-man',\n",
       " 'game',\n",
       " '.',\n",
       " 'if',\n",
       " 'he',\n",
       " 'does',\n",
       " 'move',\n",
       " 'across',\n",
       " 'to',\n",
       " 'union',\n",
       " 'wells',\n",
       " 'believes',\n",
       " 'he',\n",
       " 'would',\n",
       " 'better',\n",
       " 'off',\n",
       " 'playing',\n",
       " 'in',\n",
       " 'the',\n",
       " 'backs',\n",
       " 'at',\n",
       " 'least',\n",
       " 'initially',\n",
       " '.',\n",
       " 'i',\n",
       " 'm',\n",
       " 'sure',\n",
       " 'he',\n",
       " 'could',\n",
       " 'make',\n",
       " 'the',\n",
       " 'step',\n",
       " 'between',\n",
       " 'league',\n",
       " 'and',\n",
       " 'union',\n",
       " 'by',\n",
       " 'being',\n",
       " 'involved',\n",
       " 'in',\n",
       " 'the',\n",
       " 'centre',\n",
       " 'said',\n",
       " 'wells',\n",
       " '.',\n",
       " 'i',\n",
       " 'think',\n",
       " 'england',\n",
       " 'would',\n",
       " 'prefer',\n",
       " 'him',\n",
       " 'to',\n",
       " 'progress',\n",
       " 'to',\n",
       " 'a',\n",
       " 'position',\n",
       " 'in',\n",
       " 'the',\n",
       " 'back',\n",
       " 'row',\n",
       " 'where',\n",
       " 'they',\n",
       " 'can',\n",
       " 'make',\n",
       " 'use',\n",
       " 'of',\n",
       " 'some',\n",
       " 'of',\n",
       " 'his',\n",
       " 'rugby',\n",
       " 'league',\n",
       " 'skills',\n",
       " 'within',\n",
       " 'the',\n",
       " 'forwards',\n",
       " '.',\n",
       " 'the',\n",
       " 'jury',\n",
       " 'is',\n",
       " 'out',\n",
       " 'on',\n",
       " 'whether',\n",
       " 'he',\n",
       " 'can',\n",
       " 'cross',\n",
       " 'that',\n",
       " 'divide',\n",
       " '.',\n",
       " 'at',\n",
       " 'this',\n",
       " 'club',\n",
       " 'the',\n",
       " 'balance',\n",
       " 'will',\n",
       " 'have',\n",
       " 'to',\n",
       " 'be',\n",
       " 'struck',\n",
       " 'between',\n",
       " 'the',\n",
       " 'cost',\n",
       " 'of',\n",
       " 'that',\n",
       " 'gamble',\n",
       " 'and',\n",
       " 'the',\n",
       " 'option',\n",
       " 'of',\n",
       " 'bringing',\n",
       " 'in',\n",
       " 'a',\n",
       " 'ready-made',\n",
       " 'replacement',\n",
       " '.']"
      ]
     },
     "execution_count": 40,
     "metadata": {},
     "output_type": "execute_result"
    }
   ],
   "source": [
    "X_train[\"Article\"] = X_train[\"Article\"].apply(lambda x: word_tokenize(x))\n",
    "X_train[\"Article\"][2]"
   ]
  },
  {
   "cell_type": "code",
   "execution_count": 42,
   "metadata": {},
   "outputs": [
    {
     "name": "stderr",
     "output_type": "stream",
     "text": [
      "[nltk_data] Downloading package stopwords to /home/varun/nltk_data...\n",
      "[nltk_data]   Package stopwords is already up-to-date!\n"
     ]
    }
   ],
   "source": [
    "# Import the english stop words list from NLTK\n",
    "nltk.download(\"stopwords\")\n",
    "stopwords_english = stopwords.words('english')"
   ]
  },
  {
   "cell_type": "code",
   "execution_count": 48,
   "metadata": {},
   "outputs": [
    {
     "data": {
      "text/plain": [
       "['tigers',\n",
       " 'wary',\n",
       " 'farrell',\n",
       " 'gamble',\n",
       " 'leicester',\n",
       " 'say',\n",
       " 'rushed',\n",
       " 'making',\n",
       " 'bid',\n",
       " 'andy',\n",
       " 'farrell',\n",
       " 'great',\n",
       " 'britain',\n",
       " 'rugby',\n",
       " 'league',\n",
       " 'captain',\n",
       " 'decide',\n",
       " 'switch',\n",
       " 'codes',\n",
       " 'anybody',\n",
       " 'else',\n",
       " 'involved',\n",
       " 'process',\n",
       " 'still',\n",
       " 'way',\n",
       " 'away',\n",
       " 'going',\n",
       " 'next',\n",
       " 'stage',\n",
       " 'tigers',\n",
       " 'boss',\n",
       " 'john',\n",
       " 'wells',\n",
       " 'told',\n",
       " 'bbc',\n",
       " 'radio',\n",
       " 'leicester',\n",
       " 'moment',\n",
       " 'still',\n",
       " 'lot',\n",
       " 'unknowns',\n",
       " 'andy',\n",
       " 'farrell',\n",
       " 'least',\n",
       " 'medical',\n",
       " 'situation',\n",
       " 'whoever',\n",
       " 'take',\n",
       " 'going',\n",
       " 'take',\n",
       " 'big',\n",
       " 'big',\n",
       " 'gamble',\n",
       " 'farrell',\n",
       " 'persistent',\n",
       " 'knee',\n",
       " 'problems',\n",
       " 'operation',\n",
       " 'knee',\n",
       " 'five',\n",
       " 'weeks',\n",
       " 'ago',\n",
       " 'expected',\n",
       " 'another',\n",
       " 'three',\n",
       " 'months',\n",
       " 'leicester',\n",
       " 'saracens',\n",
       " 'believed',\n",
       " 'head',\n",
       " 'list',\n",
       " 'rugby',\n",
       " 'union',\n",
       " 'clubs',\n",
       " 'interested',\n",
       " 'signing',\n",
       " 'farrell',\n",
       " 'decides',\n",
       " 'move',\n",
       " '15-man',\n",
       " 'game',\n",
       " 'move',\n",
       " 'across',\n",
       " 'union',\n",
       " 'wells',\n",
       " 'believes',\n",
       " 'would',\n",
       " 'better',\n",
       " 'playing',\n",
       " 'backs',\n",
       " 'least',\n",
       " 'initially',\n",
       " 'sure',\n",
       " 'could',\n",
       " 'make',\n",
       " 'step',\n",
       " 'league',\n",
       " 'union',\n",
       " 'involved',\n",
       " 'centre',\n",
       " 'said',\n",
       " 'wells',\n",
       " 'think',\n",
       " 'england',\n",
       " 'would',\n",
       " 'prefer',\n",
       " 'progress',\n",
       " 'position',\n",
       " 'back',\n",
       " 'row',\n",
       " 'make',\n",
       " 'use',\n",
       " 'rugby',\n",
       " 'league',\n",
       " 'skills',\n",
       " 'within',\n",
       " 'forwards',\n",
       " 'jury',\n",
       " 'whether',\n",
       " 'cross',\n",
       " 'divide',\n",
       " 'club',\n",
       " 'balance',\n",
       " 'struck',\n",
       " 'cost',\n",
       " 'gamble',\n",
       " 'option',\n",
       " 'bringing',\n",
       " 'ready-made',\n",
       " 'replacement']"
      ]
     },
     "execution_count": 48,
     "metadata": {},
     "output_type": "execute_result"
    }
   ],
   "source": [
    "X_train[\"Article\"] = X_train[\"Article\"].apply(lambda x: [word for word in x if (word.lower() not in stopwords_english) and (word not in string.punctuation)])\n",
    "X_train[\"Article\"][2]"
   ]
  },
  {
   "cell_type": "code",
   "execution_count": null,
   "metadata": {},
   "outputs": [],
   "source": []
  }
 ],
 "metadata": {
  "kernelspec": {
   "display_name": ".venv",
   "language": "python",
   "name": "python3"
  },
  "language_info": {
   "codemirror_mode": {
    "name": "ipython",
    "version": 3
   },
   "file_extension": ".py",
   "mimetype": "text/x-python",
   "name": "python",
   "nbconvert_exporter": "python",
   "pygments_lexer": "ipython3",
   "version": "3.10.12"
  }
 },
 "nbformat": 4,
 "nbformat_minor": 2
}
